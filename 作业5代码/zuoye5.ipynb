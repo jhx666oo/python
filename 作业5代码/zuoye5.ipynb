{
 "cells": [
  {
   "cell_type": "markdown",
   "metadata": {},
   "source": [
    "第一题：停止逆转我的单词\n",
    "\n",
    "难度： 6kyu\n",
    "\n",
    "编写一个函数，接收一个或多个单词的字符串，并返回相同的字符串，但所有5个或更多的字母单词都是相反的（就像这个Kata的名字一样）。传入的字符串将只由字母和空格组成。只有当出现一个以上的单词时，才会包括空格。"
   ]
  },
  {
   "cell_type": "code",
   "execution_count": 2,
   "metadata": {},
   "outputs": [],
   "source": [
    "def spin_words(sentence):\n",
    "    words = sentence.split()\n",
    "    for i in range(len(words)):\n",
    "        if len(words[i]) >= 5:\n",
    "            words[i] = words[i][::-1]\n",
    "    return \" \".join(words)\n"
   ]
  },
  {
   "cell_type": "markdown",
   "metadata": {},
   "source": [
    "第二题： 发现离群的数(Find The Parity Outlier)\n",
    "\n",
    "难度：6kyu\n",
    "\n",
    "给你一个包含整数的数组（其长度至少为3，但可能非常大）。该数组要么完全由奇数组成，要么完全由偶数组成，除了一个整数N。请写一个方法，以该数组为参数，返回这个 \"离群 \"的N。\n"
   ]
  },
  {
   "cell_type": "code",
   "execution_count": null,
   "metadata": {},
   "outputs": [],
   "source": [
    "def find_outlier(integers):\n",
    "    # Count the number of even and odd integers\n",
    "    even_count = 0\n",
    "    odd_count = 0\n",
    "    last_even = None\n",
    "    last_odd = None\n",
    "\n",
    "    for num in integers:\n",
    "        if num % 2 == 0:\n",
    "            even_count += 1\n",
    "            last_even = num\n",
    "        else:\n",
    "            odd_count += 1\n",
    "            last_odd = num\n",
    "\n",
    "        # Check if we've identified the majority\n",
    "        if even_count > 1 and odd_count == 1:\n",
    "            return last_odd\n",
    "        if odd_count > 1 and even_count == 1:\n",
    "            return last_even\n",
    "\n",
    "    # If no majority is found, return the last identified integer\n",
    "    return last_even if even_count > 0 else last_odd"
   ]
  },
  {
   "cell_type": "markdown",
   "metadata": {},
   "source": [
    "检测Pangram\n",
    "\n",
    "难度：6kyu\n",
    "\n",
    "pangram是一个至少包含每个字母一次的句子。例如，\"The quick brown fox jumps over the lazy dog \"这个句子就是一个pangram，因为它至少使用了一次字母A-Z（大小写不相关）。\n",
    "\n",
    "给定一个字符串，检测它是否是一个pangram。如果是则返回`True`，如果不是则返回`False`。忽略数字和标点符号。"
   ]
  },
  {
   "cell_type": "code",
   "execution_count": null,
   "metadata": {},
   "outputs": [],
   "source": [
    "def is_pangram(s):\n",
    "    alphabet = set('abcdefghijklmnopqrstuvwxyz')\n",
    "    s = s.lower()\n",
    "    s_set = set([char for char in s if char.isalpha()])\n",
    "    return s_set == alphabet"
   ]
  },
  {
   "cell_type": "markdown",
   "metadata": {},
   "source": [
    "第四题： 数独解决方案验证\n",
    "\n",
    "难度：6kyu\n",
    "\n",
    "数独背景\n",
    "\n",
    "数独是一种在 9x9 网格上进行的游戏。游戏的目标是用 1 到 9 的数字填充网格的所有单元格，以便每一列、每一行和九个 3x3 子网格（也称为块）中的都包含数字 1 到 9。更多信息请访问：<http://en.wikipedia.org/wiki/Sudoku>\n",
    "\n",
    "编写一个函数接受一个代表数独板的二维数组，如果它是一个有效的解决方案则返回 true，否则返回 false。数独板的单元格也可能包含 0，这将代表空单元格。包含一个或多个零的棋盘被认为是无效的解决方案。棋盘总是 9 x 9 格，每个格只包含 0 到 9 之间的整数。"
   ]
  },
  {
   "cell_type": "code",
   "execution_count": null,
   "metadata": {},
   "outputs": [],
   "source": [
    "def isValidSudoku(board):\n",
    "    rows = [set() for _ in range(9)]\n",
    "    cols = [set() for _ in range(9)]\n",
    "    boxes = [set() for _ in range(9)]\n",
    "    \n",
    "    for i in range(9):\n",
    "        for j in range(9):\n",
    "            num = board[i][j]\n",
    "            if num == 0:\n",
    "                return False  # 无效，因为它包含空格\n",
    "            \n",
    "            if num in rows[i] or num in cols[j] or num in boxes[(i//3)*3 + j//3]:\n",
    "                return False  # 无效，因为行、列或框中有重复\n",
    "            \n",
    "            rows[i].add(num)\n",
    "            cols[j].add(num)\n",
    "            boxes[(i//3)*3 + j//3].add(num)\n",
    "            \n",
    "    return True"
   ]
  }
 ],
 "metadata": {
  "kernelspec": {
   "display_name": "Python 3",
   "language": "python",
   "name": "python3"
  },
  "language_info": {
   "codemirror_mode": {
    "name": "ipython",
    "version": 3
   },
   "file_extension": ".py",
   "mimetype": "text/x-python",
   "name": "python",
   "nbconvert_exporter": "python",
   "pygments_lexer": "ipython3",
   "version": "3.11.5"
  }
 },
 "nbformat": 4,
 "nbformat_minor": 2
}
